{
 "cells": [
  {
   "cell_type": "code",
   "execution_count": 23,
   "metadata": {},
   "outputs": [],
   "source": [
    "import sys\n",
    "import os\n",
    "import logging\n",
    " \n",
    "# Add the project root directory to Python path\n",
    "sys.path.append(os.path.abspath(os.path.join(os.path.dirname('__file__'), '..')))\n",
    "%reload_ext autoreload\n",
    "%autoreload 2 \n"
   ]
  },
  {
   "cell_type": "code",
   "execution_count": null,
   "metadata": {},
   "outputs": [
    {
     "name": "stdout",
     "output_type": "stream",
     "text": [
      "Database connection established.\n",
      "Banks table created successfully.\n",
      "Reviews table created successfully.\n",
      "Inserted 3 banks into the database.\n",
      "Inserted 600 reviews for CBE into the database.\n",
      "Inserted 596 reviews for BOE into the database.\n",
      "Inserted 408 reviews for Dashen into the database.\n",
      "Database connection closed.\n"
     ]
    }
   ],
   "source": [
    "import pandas as pd\n",
    "import oracledb\n",
    "from scripts.database_setup import create_connection, create_tables, insert_banks, insert_reviews\n",
    "\n",
    "# Loading the datasets pathes\n",
    "REVIEWS_PATH = '../data/analyzed_reviews.csv'\n",
    "CBE_PATH = '../data/processed/cbe_review.csv'\n",
    "BOE_PATH = '../data/processed/boe_review.csv'\n",
    "DASHEN_PATH = '../data/processed/dashen_review.csv'\n",
    "\n",
    "# Main function to execute the database operations.\"\"\"\n",
    "connection = None\n",
    "try:\n",
    "    connection = create_connection()\n",
    "    create_tables(connection)\n",
    "    insert_banks(connection)\n",
    "    insert_reviews(connection, CBE_PATH, 'CBE')\n",
    "    insert_reviews(connection, BOE_PATH, 'BOE')\n",
    "    insert_reviews(connection, DASHEN_PATH, 'Dashen')\n",
    "except Exception as e:\n",
    "    print(f\"An error occurred: {str(e)}\")\n",
    "finally:\n",
    "    if connection:\n",
    "        connection.close()\n",
    "        print(\"Database connection closed.\")\n",
    "\n"
   ]
  },
  {
   "cell_type": "markdown",
   "metadata": {},
   "source": [
    "## Output Analysis\n",
    "  - It looks like the output from my database operations indicates a successful workflow. \n",
    "\n",
    "1. Database Connection: The connection to the database was established successfully, which is a positive start\n",
    "2. Table Creation:\n",
    "   * The Banks table was created successfully.\n",
    "   * The Reviews table was also created successfully.\n",
    "3. Data Insertion:Inserted 3 banks into the database, suggesting that the Banks table now has entries.\n",
    "Inserted a total of 1,604 reviews across different banks:\n",
    "   * 600 reviews for CBE.\n",
    "   * 596 reviews for BOE.\n",
    "   * 408 reviews for Dashen.\n",
    "4. Connection Closed: The database connection was closed properly, indicating that all operations were completed without errors."
   ]
  }
 ],
 "metadata": {
  "kernelspec": {
   "display_name": "Python 3",
   "language": "python",
   "name": "python3"
  },
  "language_info": {
   "codemirror_mode": {
    "name": "ipython",
    "version": 3
   },
   "file_extension": ".py",
   "mimetype": "text/x-python",
   "name": "python",
   "nbconvert_exporter": "python",
   "pygments_lexer": "ipython3",
   "version": "3.13.2"
  }
 },
 "nbformat": 4,
 "nbformat_minor": 2
}
