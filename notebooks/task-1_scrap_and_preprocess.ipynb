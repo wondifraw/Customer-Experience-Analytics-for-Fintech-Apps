{
 "cells": [
  {
   "cell_type": "code",
   "execution_count": 2,
   "id": "74256e57",
   "metadata": {},
   "outputs": [],
   "source": [
    "import sys\n",
    "import os\n",
    "import logging\n",
    " \n",
    "# Add the project root directory to Python path\n",
    "sys.path.append(os.path.abspath(os.path.join(os.path.dirname('__file__'), '..')))\n",
    "from src.playstore_scraper import PlayStoreScraper\n",
    "from src.review_preprocessor import ReviewPreprocessor\n",
    "import pandas as pd\n",
    "import logging\n",
    "%reload_ext autoreload\n",
    "%autoreload 2 "
   ]
  },
  {
   "cell_type": "code",
   "execution_count": 3,
   "id": "036baf38",
   "metadata": {},
   "outputs": [
    {
     "name": "stderr",
     "output_type": "stream",
     "text": [
      "2025-06-11 19:47:03,206 - INFO - Scraping reviews for cbe\n",
      "2025-06-11 19:47:03,289 - ERROR - Error fetching reviews for com.combanketh.mobilebanking: <urlopen error [Errno 11001] getaddrinfo failed>\n",
      "2025-06-11 19:47:03,294 - INFO - Scraping reviews for boe\n",
      "2025-06-11 19:47:03,296 - ERROR - Error fetching reviews for com.boa.boaMobileBanking: <urlopen error [Errno 11001] getaddrinfo failed>\n",
      "2025-06-11 19:47:03,299 - INFO - Scraping reviews for dashen\n",
      "2025-06-11 19:47:03,301 - ERROR - Error fetching reviews for com.dashen.dashensuperapp: <urlopen error [Errno 11001] getaddrinfo failed>\n"
     ]
    }
   ],
   "source": [
    "scraper = PlayStoreScraper()\n",
    "reviews_by_bank = scraper.scrape_all()"
   ]
  },
  {
   "cell_type": "code",
   "execution_count": 5,
   "id": "00219706",
   "metadata": {},
   "outputs": [
    {
     "data": {
      "application/vnd.microsoft.datawrangler.viewer.v0+json": {
       "columns": [
        {
         "name": "index",
         "rawType": "int64",
         "type": "integer"
        },
        {
         "name": "review",
         "rawType": "object",
         "type": "string"
        },
        {
         "name": "rating",
         "rawType": "int64",
         "type": "integer"
        },
        {
         "name": "date",
         "rawType": "object",
         "type": "string"
        },
        {
         "name": "bank",
         "rawType": "object",
         "type": "string"
        },
        {
         "name": "source",
         "rawType": "object",
         "type": "string"
        }
       ],
       "ref": "a9ae15b0-dca4-4ae5-8c15-fa2e27df3899",
       "rows": [
        [
         "0",
         "The previous version is much better than this one. I used it for more than six years without any problem. But now I'm having a serious trouble with the updated app. I don't know why it takes him forever to refresh and load the home page once you sign in. And if it fails to load, it never recovers. I only see some UI changes. Really disappointed",
         "2",
         "2021-01-01",
         "cbe",
         "google_play"
        ],
        [
         "1",
         "The good thing is its simplicity to undertake the basic functions. Updates with improvements and fixes should have been released by now. Please fix. 5 years after last review… Issues with beneficiary are fixed. However, still unable to track transactions much less to download in appropriate formats. This feature got diminished in the latest update. Please improve and fix.",
         "3",
         "2023-03-15",
         "cbe",
         "google_play"
        ],
        [
         "2",
         "The updated app is attractive and is working very well. Forced to revise my previous rating of 2 star to 4 star. Hope it will keep on working! Rated it excellent for the past years. Revised my review after it keeps on crashing in 2019 and installing it for a second time in less than 3 months. Please work on the problems.",
         "4",
         "2020-07-25",
         "cbe",
         "google_play"
        ],
        [
         "3",
         "I love this app. It's simple to use and syncs fast. The only issue I had was the balance shows only what's on the ledger, there is no way to tell what the actual balance is. I learn about the difference between the two balance types the hard way on an ATM machine. I would love to see that fixed in your next update.",
         "5",
         "2021-09-25",
         "cbe",
         "google_play"
        ],
        [
         "4",
         "It is a service that is not expected from such a large institution. I saw that your work is very complicated. The user does not understand well your application. In general, you have many problems. This application is not convenient for the end user. For instance I can't access my account from abroad what I depsited amount and transfer from my account to any any one .It is a shame.",
         "1",
         "2024-10-16",
         "cbe",
         "google_play"
        ]
       ],
       "shape": {
        "columns": 5,
        "rows": 5
       }
      },
      "text/html": [
       "<div>\n",
       "<style scoped>\n",
       "    .dataframe tbody tr th:only-of-type {\n",
       "        vertical-align: middle;\n",
       "    }\n",
       "\n",
       "    .dataframe tbody tr th {\n",
       "        vertical-align: top;\n",
       "    }\n",
       "\n",
       "    .dataframe thead th {\n",
       "        text-align: right;\n",
       "    }\n",
       "</style>\n",
       "<table border=\"1\" class=\"dataframe\">\n",
       "  <thead>\n",
       "    <tr style=\"text-align: right;\">\n",
       "      <th></th>\n",
       "      <th>review</th>\n",
       "      <th>rating</th>\n",
       "      <th>date</th>\n",
       "      <th>bank</th>\n",
       "      <th>source</th>\n",
       "    </tr>\n",
       "  </thead>\n",
       "  <tbody>\n",
       "    <tr>\n",
       "      <th>0</th>\n",
       "      <td>The previous version is much better than this ...</td>\n",
       "      <td>2</td>\n",
       "      <td>2021-01-01</td>\n",
       "      <td>cbe</td>\n",
       "      <td>google_play</td>\n",
       "    </tr>\n",
       "    <tr>\n",
       "      <th>1</th>\n",
       "      <td>The good thing is its simplicity to undertake ...</td>\n",
       "      <td>3</td>\n",
       "      <td>2023-03-15</td>\n",
       "      <td>cbe</td>\n",
       "      <td>google_play</td>\n",
       "    </tr>\n",
       "    <tr>\n",
       "      <th>2</th>\n",
       "      <td>The updated app is attractive and is working v...</td>\n",
       "      <td>4</td>\n",
       "      <td>2020-07-25</td>\n",
       "      <td>cbe</td>\n",
       "      <td>google_play</td>\n",
       "    </tr>\n",
       "    <tr>\n",
       "      <th>3</th>\n",
       "      <td>I love this app. It's simple to use and syncs ...</td>\n",
       "      <td>5</td>\n",
       "      <td>2021-09-25</td>\n",
       "      <td>cbe</td>\n",
       "      <td>google_play</td>\n",
       "    </tr>\n",
       "    <tr>\n",
       "      <th>4</th>\n",
       "      <td>It is a service that is not expected from such...</td>\n",
       "      <td>1</td>\n",
       "      <td>2024-10-16</td>\n",
       "      <td>cbe</td>\n",
       "      <td>google_play</td>\n",
       "    </tr>\n",
       "  </tbody>\n",
       "</table>\n",
       "</div>"
      ],
      "text/plain": [
       "                                              review  rating        date bank  \\\n",
       "0  The previous version is much better than this ...       2  2021-01-01  cbe   \n",
       "1  The good thing is its simplicity to undertake ...       3  2023-03-15  cbe   \n",
       "2  The updated app is attractive and is working v...       4  2020-07-25  cbe   \n",
       "3  I love this app. It's simple to use and syncs ...       5  2021-09-25  cbe   \n",
       "4  It is a service that is not expected from such...       1  2024-10-16  cbe   \n",
       "\n",
       "        source  \n",
       "0  google_play  \n",
       "1  google_play  \n",
       "2  google_play  \n",
       "3  google_play  \n",
       "4  google_play  "
      ]
     },
     "execution_count": 5,
     "metadata": {},
     "output_type": "execute_result"
    }
   ],
   "source": [
    "cbe_raw = pd.read_csv('../data/raw/cbe_review.csv')\n",
    "cbe_raw.head()\n"
   ]
  },
  {
   "cell_type": "code",
   "execution_count": 6,
   "id": "9cfae8d7",
   "metadata": {},
   "outputs": [
    {
     "data": {
      "application/vnd.microsoft.datawrangler.viewer.v0+json": {
       "columns": [
        {
         "name": "index",
         "rawType": "int64",
         "type": "integer"
        },
        {
         "name": "review",
         "rawType": "object",
         "type": "string"
        },
        {
         "name": "rating",
         "rawType": "int64",
         "type": "integer"
        },
        {
         "name": "date",
         "rawType": "object",
         "type": "string"
        },
        {
         "name": "bank",
         "rawType": "object",
         "type": "string"
        },
        {
         "name": "source",
         "rawType": "object",
         "type": "string"
        }
       ],
       "ref": "1e8924fd-5102-4842-a1a8-5b46185a10fd",
       "rows": [
        [
         "0",
         "I have a fitayah account, a type of interest free account, and because their system is unable to process anything for people like me I can't see any of my accounts in the account list on any transaction, although I can see it when performing security actions or checking my balance, as such this app is as useless to me as the previous one. Unbelievable",
         "1",
         "2024-02-18",
         "boe",
         "google_play"
        ],
        [
         "1",
         "Can you please just make it functional. I don't think anyone cares how good it looks if not a single functionality works. Plus it's not even aestheticaly nice. The loading animated icon has white irregular edges because the logo wasn't cut out correctly. The app doesn't work at all. It doesn't even login. It gets stuck on login just showing the logo animation and blames the issue on connectivity. Connectivity is fine and the proof is that this review is posted.",
         "1",
         "2024-04-15",
         "boe",
         "google_play"
        ],
        [
         "2",
         "Developers/ the company takes too long to update the app, and throughout that process, the app is basically useless. We can't send money or even be able to check our account. They even take it down from the Play Store for a while. This whole process usually takes them 3 to 5 days. This is very disappointing. It is an improvement from the previous version of the app, but they still have a long way to go to compete with the likes of CBE. Transferring to other banks sometimes doesn't work.",
         "2",
         "2024-05-03",
         "boe",
         "google_play"
        ],
        [
         "3",
         "This app is a joke. It crashes more than it works, takes forever to load, and half the features are just decorative at this point. Can’t log in, can’t transfer money, can’t even check my balance without it bugging out. To the developer: Are you actually trying to make this work, or is this some kind of social experiment to test our patience? Did you build this in your sleep? Because it definitely looks like it. If this is your idea of a functional app, maybe consider a different career path🙏",
         "1",
         "2025-05-21",
         "boe",
         "google_play"
        ],
        [
         "4",
         "Hello, I’m facing a problem with the BOA Mobile app. Every time I enter my phone number and password, the app crashes and shows an error that says “BoaMobile closed because this app has a bug.” I tried updating, reinstalling, and clearing cache, but nothing worked. Please fix this bug in the next update. I really need access to my account. Thank you.",
         "1",
         "2025-06-03",
         "boe",
         "google_play"
        ]
       ],
       "shape": {
        "columns": 5,
        "rows": 5
       }
      },
      "text/html": [
       "<div>\n",
       "<style scoped>\n",
       "    .dataframe tbody tr th:only-of-type {\n",
       "        vertical-align: middle;\n",
       "    }\n",
       "\n",
       "    .dataframe tbody tr th {\n",
       "        vertical-align: top;\n",
       "    }\n",
       "\n",
       "    .dataframe thead th {\n",
       "        text-align: right;\n",
       "    }\n",
       "</style>\n",
       "<table border=\"1\" class=\"dataframe\">\n",
       "  <thead>\n",
       "    <tr style=\"text-align: right;\">\n",
       "      <th></th>\n",
       "      <th>review</th>\n",
       "      <th>rating</th>\n",
       "      <th>date</th>\n",
       "      <th>bank</th>\n",
       "      <th>source</th>\n",
       "    </tr>\n",
       "  </thead>\n",
       "  <tbody>\n",
       "    <tr>\n",
       "      <th>0</th>\n",
       "      <td>I have a fitayah account, a type of interest f...</td>\n",
       "      <td>1</td>\n",
       "      <td>2024-02-18</td>\n",
       "      <td>boe</td>\n",
       "      <td>google_play</td>\n",
       "    </tr>\n",
       "    <tr>\n",
       "      <th>1</th>\n",
       "      <td>Can you please just make it functional. I don'...</td>\n",
       "      <td>1</td>\n",
       "      <td>2024-04-15</td>\n",
       "      <td>boe</td>\n",
       "      <td>google_play</td>\n",
       "    </tr>\n",
       "    <tr>\n",
       "      <th>2</th>\n",
       "      <td>Developers/ the company takes too long to upda...</td>\n",
       "      <td>2</td>\n",
       "      <td>2024-05-03</td>\n",
       "      <td>boe</td>\n",
       "      <td>google_play</td>\n",
       "    </tr>\n",
       "    <tr>\n",
       "      <th>3</th>\n",
       "      <td>This app is a joke. It crashes more than it wo...</td>\n",
       "      <td>1</td>\n",
       "      <td>2025-05-21</td>\n",
       "      <td>boe</td>\n",
       "      <td>google_play</td>\n",
       "    </tr>\n",
       "    <tr>\n",
       "      <th>4</th>\n",
       "      <td>Hello, I’m facing a problem with the BOA Mobil...</td>\n",
       "      <td>1</td>\n",
       "      <td>2025-06-03</td>\n",
       "      <td>boe</td>\n",
       "      <td>google_play</td>\n",
       "    </tr>\n",
       "  </tbody>\n",
       "</table>\n",
       "</div>"
      ],
      "text/plain": [
       "                                              review  rating        date bank  \\\n",
       "0  I have a fitayah account, a type of interest f...       1  2024-02-18  boe   \n",
       "1  Can you please just make it functional. I don'...       1  2024-04-15  boe   \n",
       "2  Developers/ the company takes too long to upda...       2  2024-05-03  boe   \n",
       "3  This app is a joke. It crashes more than it wo...       1  2025-05-21  boe   \n",
       "4  Hello, I’m facing a problem with the BOA Mobil...       1  2025-06-03  boe   \n",
       "\n",
       "        source  \n",
       "0  google_play  \n",
       "1  google_play  \n",
       "2  google_play  \n",
       "3  google_play  \n",
       "4  google_play  "
      ]
     },
     "execution_count": 6,
     "metadata": {},
     "output_type": "execute_result"
    }
   ],
   "source": [
    "boe_raw = pd.read_csv('../data/raw/boe_review.csv')\n",
    "boe_raw.head()"
   ]
  },
  {
   "cell_type": "code",
   "execution_count": 7,
   "id": "79d50942",
   "metadata": {},
   "outputs": [
    {
     "data": {
      "application/vnd.microsoft.datawrangler.viewer.v0+json": {
       "columns": [
        {
         "name": "index",
         "rawType": "int64",
         "type": "integer"
        },
        {
         "name": "review",
         "rawType": "object",
         "type": "string"
        },
        {
         "name": "rating",
         "rawType": "int64",
         "type": "integer"
        },
        {
         "name": "date",
         "rawType": "object",
         "type": "string"
        },
        {
         "name": "bank",
         "rawType": "object",
         "type": "string"
        },
        {
         "name": "source",
         "rawType": "object",
         "type": "string"
        }
       ],
       "ref": "7bcd5b77-2444-4e1e-ba1a-0ca6a554db31",
       "rows": [
        [
         "0",
         "The new mobile banking application is a major upgrade! It’s incredibly user-friendly, with a clean and modern design that makes navigation simple and intuitive. I really appreciate how fast it loads and how smooth the overall experience is. All essential services like balance checks, transfers, and bill payments are eas y to find and use. The added security features give me peace of mind, and the app runs reliably without crashes or glitches. It’s clear a lot of thought went into the user experi",
         "5",
         "2025-04-21",
         "dashen",
         "google_play"
        ],
        [
         "1",
         "Dashen Super App is a game-changer! It’s fast, user-friendly, and packed with features that make everyday banking and transactions super convenient. I love how everything I need from mobile banking to utility payments is all in one place. The interface is clean, and everything works smoothly. Definitely one of the best apps out there. Highly recommended!",
         "5",
         "2025-04-21",
         "dashen",
         "google_play"
        ],
        [
         "2",
         "I have been using the Dashen Supper app mobile banking app , and overall, I appreciate its features.However,I’ve noticed that when I turn on the developer options on my device, the app stops functioning properly. It would be great if you could look into this issue, as I often need to access developer settings for other applications . Thank you for your attention to this matter!",
         "5",
         "2025-04-21",
         "dashen",
         "google_play"
        ],
        [
         "3",
         "The Dashen Super App offers a quick and user-friendly experience, bringing together a variety of services, like budgeting, payments, airtime recharges, and more, all in one convenient platform. Its sleek design and intuitive navigation ensure effortless transactions. It's evident that Dashen Bank has carefully crafted the app to make everyday financial activities easier. A great choice for anyone aiming to streamline their digital routines!",
         "5",
         "2025-04-21",
         "dashen",
         "google_play"
        ],
        [
         "4",
         "Game changer app! Dashen Bank Super App is fast, secure, and easy to use. The three-click payment makes sending money super quick, and the QR code payment is perfect for cashless shopping. I also love the biometric login and easy airtime and bill payments. Everything I need is in one place. Dashen Bank has really raised the bar for digital banking in Ethiopia. Highly recommended!",
         "5",
         "2025-05-26",
         "dashen",
         "google_play"
        ]
       ],
       "shape": {
        "columns": 5,
        "rows": 5
       }
      },
      "text/html": [
       "<div>\n",
       "<style scoped>\n",
       "    .dataframe tbody tr th:only-of-type {\n",
       "        vertical-align: middle;\n",
       "    }\n",
       "\n",
       "    .dataframe tbody tr th {\n",
       "        vertical-align: top;\n",
       "    }\n",
       "\n",
       "    .dataframe thead th {\n",
       "        text-align: right;\n",
       "    }\n",
       "</style>\n",
       "<table border=\"1\" class=\"dataframe\">\n",
       "  <thead>\n",
       "    <tr style=\"text-align: right;\">\n",
       "      <th></th>\n",
       "      <th>review</th>\n",
       "      <th>rating</th>\n",
       "      <th>date</th>\n",
       "      <th>bank</th>\n",
       "      <th>source</th>\n",
       "    </tr>\n",
       "  </thead>\n",
       "  <tbody>\n",
       "    <tr>\n",
       "      <th>0</th>\n",
       "      <td>The new mobile banking application is a major ...</td>\n",
       "      <td>5</td>\n",
       "      <td>2025-04-21</td>\n",
       "      <td>dashen</td>\n",
       "      <td>google_play</td>\n",
       "    </tr>\n",
       "    <tr>\n",
       "      <th>1</th>\n",
       "      <td>Dashen Super App is a game-changer! It’s fast,...</td>\n",
       "      <td>5</td>\n",
       "      <td>2025-04-21</td>\n",
       "      <td>dashen</td>\n",
       "      <td>google_play</td>\n",
       "    </tr>\n",
       "    <tr>\n",
       "      <th>2</th>\n",
       "      <td>I have been using the Dashen Supper app mobile...</td>\n",
       "      <td>5</td>\n",
       "      <td>2025-04-21</td>\n",
       "      <td>dashen</td>\n",
       "      <td>google_play</td>\n",
       "    </tr>\n",
       "    <tr>\n",
       "      <th>3</th>\n",
       "      <td>The Dashen Super App offers a quick and user-f...</td>\n",
       "      <td>5</td>\n",
       "      <td>2025-04-21</td>\n",
       "      <td>dashen</td>\n",
       "      <td>google_play</td>\n",
       "    </tr>\n",
       "    <tr>\n",
       "      <th>4</th>\n",
       "      <td>Game changer app! Dashen Bank Super App is fas...</td>\n",
       "      <td>5</td>\n",
       "      <td>2025-05-26</td>\n",
       "      <td>dashen</td>\n",
       "      <td>google_play</td>\n",
       "    </tr>\n",
       "  </tbody>\n",
       "</table>\n",
       "</div>"
      ],
      "text/plain": [
       "                                              review  rating        date  \\\n",
       "0  The new mobile banking application is a major ...       5  2025-04-21   \n",
       "1  Dashen Super App is a game-changer! It’s fast,...       5  2025-04-21   \n",
       "2  I have been using the Dashen Supper app mobile...       5  2025-04-21   \n",
       "3  The Dashen Super App offers a quick and user-f...       5  2025-04-21   \n",
       "4  Game changer app! Dashen Bank Super App is fas...       5  2025-05-26   \n",
       "\n",
       "     bank       source  \n",
       "0  dashen  google_play  \n",
       "1  dashen  google_play  \n",
       "2  dashen  google_play  \n",
       "3  dashen  google_play  \n",
       "4  dashen  google_play  "
      ]
     },
     "execution_count": 7,
     "metadata": {},
     "output_type": "execute_result"
    }
   ],
   "source": [
    "dashen_raw = pd.read_csv('../data/raw/dashen_review.csv')\n",
    "dashen_raw.head()"
   ]
  },
  {
   "cell_type": "markdown",
   "id": "adeb1e73",
   "metadata": {},
   "source": [
    "# Les's Clean the datasets"
   ]
  },
  {
   "cell_type": "code",
   "execution_count": 8,
   "id": "271481a8",
   "metadata": {},
   "outputs": [],
   "source": [
    "ReviewPreprocessor = ReviewPreprocessor()"
   ]
  },
  {
   "cell_type": "code",
   "execution_count": 9,
   "id": "d7c4ec0f",
   "metadata": {},
   "outputs": [
    {
     "name": "stderr",
     "output_type": "stream",
     "text": [
      "2025-06-11 19:49:31,044 - INFO - Saved 596 processed reviews for boe\n",
      "2025-06-11 19:49:31,088 - INFO - Saved 600 processed reviews for cbe\n",
      "2025-06-11 19:49:31,107 - INFO - Saved 408 processed reviews for dashen\n"
     ]
    }
   ],
   "source": [
    "ReviewPreprocessor.process_all_banks()"
   ]
  },
  {
   "cell_type": "code",
   "execution_count": 10,
   "id": "dc0865c6",
   "metadata": {},
   "outputs": [
    {
     "data": {
      "application/vnd.microsoft.datawrangler.viewer.v0+json": {
       "columns": [
        {
         "name": "index",
         "rawType": "int64",
         "type": "integer"
        },
        {
         "name": "review",
         "rawType": "object",
         "type": "string"
        },
        {
         "name": "rating",
         "rawType": "int64",
         "type": "integer"
        },
        {
         "name": "date",
         "rawType": "object",
         "type": "string"
        },
        {
         "name": "bank",
         "rawType": "object",
         "type": "string"
        },
        {
         "name": "source",
         "rawType": "object",
         "type": "string"
        }
       ],
       "ref": "e96a0bc7-b2c6-4fbe-a61e-05c88074f9bf",
       "rows": [
        [
         "0",
         "The previous version is much better than this one. I used it for more than six years without any problem. But now I'm having a serious trouble with the updated app. I don't know why it takes him forever to refresh and load the home page once you sign in. And if it fails to load, it never recovers. I only see some UI changes. Really disappointed",
         "2",
         "2021-01-01",
         "cbe",
         "google_play"
        ],
        [
         "1",
         "The good thing is its simplicity to undertake the basic functions. Updates with improvements and fixes should have been released by now. Please fix. 5 years after last review… Issues with beneficiary are fixed. However, still unable to track transactions much less to download in appropriate formats. This feature got diminished in the latest update. Please improve and fix.",
         "3",
         "2023-03-15",
         "cbe",
         "google_play"
        ],
        [
         "2",
         "The updated app is attractive and is working very well. Forced to revise my previous rating of 2 star to 4 star. Hope it will keep on working! Rated it excellent for the past years. Revised my review after it keeps on crashing in 2019 and installing it for a second time in less than 3 months. Please work on the problems.",
         "4",
         "2020-07-25",
         "cbe",
         "google_play"
        ],
        [
         "3",
         "I love this app. It's simple to use and syncs fast. The only issue I had was the balance shows only what's on the ledger, there is no way to tell what the actual balance is. I learn about the difference between the two balance types the hard way on an ATM machine. I would love to see that fixed in your next update.",
         "5",
         "2021-09-25",
         "cbe",
         "google_play"
        ],
        [
         "4",
         "It is a service that is not expected from such a large institution. I saw that your work is very complicated. The user does not understand well your application. In general, you have many problems. This application is not convenient for the end user. For instance I can't access my account from abroad what I depsited amount and transfer from my account to any any one .It is a shame.",
         "1",
         "2024-10-16",
         "cbe",
         "google_play"
        ]
       ],
       "shape": {
        "columns": 5,
        "rows": 5
       }
      },
      "text/html": [
       "<div>\n",
       "<style scoped>\n",
       "    .dataframe tbody tr th:only-of-type {\n",
       "        vertical-align: middle;\n",
       "    }\n",
       "\n",
       "    .dataframe tbody tr th {\n",
       "        vertical-align: top;\n",
       "    }\n",
       "\n",
       "    .dataframe thead th {\n",
       "        text-align: right;\n",
       "    }\n",
       "</style>\n",
       "<table border=\"1\" class=\"dataframe\">\n",
       "  <thead>\n",
       "    <tr style=\"text-align: right;\">\n",
       "      <th></th>\n",
       "      <th>review</th>\n",
       "      <th>rating</th>\n",
       "      <th>date</th>\n",
       "      <th>bank</th>\n",
       "      <th>source</th>\n",
       "    </tr>\n",
       "  </thead>\n",
       "  <tbody>\n",
       "    <tr>\n",
       "      <th>0</th>\n",
       "      <td>The previous version is much better than this ...</td>\n",
       "      <td>2</td>\n",
       "      <td>2021-01-01</td>\n",
       "      <td>cbe</td>\n",
       "      <td>google_play</td>\n",
       "    </tr>\n",
       "    <tr>\n",
       "      <th>1</th>\n",
       "      <td>The good thing is its simplicity to undertake ...</td>\n",
       "      <td>3</td>\n",
       "      <td>2023-03-15</td>\n",
       "      <td>cbe</td>\n",
       "      <td>google_play</td>\n",
       "    </tr>\n",
       "    <tr>\n",
       "      <th>2</th>\n",
       "      <td>The updated app is attractive and is working v...</td>\n",
       "      <td>4</td>\n",
       "      <td>2020-07-25</td>\n",
       "      <td>cbe</td>\n",
       "      <td>google_play</td>\n",
       "    </tr>\n",
       "    <tr>\n",
       "      <th>3</th>\n",
       "      <td>I love this app. It's simple to use and syncs ...</td>\n",
       "      <td>5</td>\n",
       "      <td>2021-09-25</td>\n",
       "      <td>cbe</td>\n",
       "      <td>google_play</td>\n",
       "    </tr>\n",
       "    <tr>\n",
       "      <th>4</th>\n",
       "      <td>It is a service that is not expected from such...</td>\n",
       "      <td>1</td>\n",
       "      <td>2024-10-16</td>\n",
       "      <td>cbe</td>\n",
       "      <td>google_play</td>\n",
       "    </tr>\n",
       "  </tbody>\n",
       "</table>\n",
       "</div>"
      ],
      "text/plain": [
       "                                              review  rating        date bank  \\\n",
       "0  The previous version is much better than this ...       2  2021-01-01  cbe   \n",
       "1  The good thing is its simplicity to undertake ...       3  2023-03-15  cbe   \n",
       "2  The updated app is attractive and is working v...       4  2020-07-25  cbe   \n",
       "3  I love this app. It's simple to use and syncs ...       5  2021-09-25  cbe   \n",
       "4  It is a service that is not expected from such...       1  2024-10-16  cbe   \n",
       "\n",
       "        source  \n",
       "0  google_play  \n",
       "1  google_play  \n",
       "2  google_play  \n",
       "3  google_play  \n",
       "4  google_play  "
      ]
     },
     "execution_count": 10,
     "metadata": {},
     "output_type": "execute_result"
    }
   ],
   "source": [
    "cbe_processed = pd.read_csv('../data/raw/cbe_review.csv')\n",
    "cbe_processed.head()\n"
   ]
  },
  {
   "cell_type": "code",
   "execution_count": 11,
   "id": "39a4d81a",
   "metadata": {},
   "outputs": [
    {
     "data": {
      "application/vnd.microsoft.datawrangler.viewer.v0+json": {
       "columns": [
        {
         "name": "index",
         "rawType": "int64",
         "type": "integer"
        },
        {
         "name": "review",
         "rawType": "object",
         "type": "string"
        },
        {
         "name": "rating",
         "rawType": "int64",
         "type": "integer"
        },
        {
         "name": "date",
         "rawType": "object",
         "type": "string"
        },
        {
         "name": "bank",
         "rawType": "object",
         "type": "string"
        },
        {
         "name": "source",
         "rawType": "object",
         "type": "string"
        }
       ],
       "ref": "0d7e1ab0-1cc4-4141-9c30-4ced25bb2114",
       "rows": [
        [
         "0",
         "I have a fitayah account, a type of interest free account, and because their system is unable to process anything for people like me I can't see any of my accounts in the account list on any transaction, although I can see it when performing security actions or checking my balance, as such this app is as useless to me as the previous one. Unbelievable",
         "1",
         "2024-02-18",
         "boe",
         "google_play"
        ],
        [
         "1",
         "Can you please just make it functional. I don't think anyone cares how good it looks if not a single functionality works. Plus it's not even aestheticaly nice. The loading animated icon has white irregular edges because the logo wasn't cut out correctly. The app doesn't work at all. It doesn't even login. It gets stuck on login just showing the logo animation and blames the issue on connectivity. Connectivity is fine and the proof is that this review is posted.",
         "1",
         "2024-04-15",
         "boe",
         "google_play"
        ],
        [
         "2",
         "Developers/ the company takes too long to update the app, and throughout that process, the app is basically useless. We can't send money or even be able to check our account. They even take it down from the Play Store for a while. This whole process usually takes them 3 to 5 days. This is very disappointing. It is an improvement from the previous version of the app, but they still have a long way to go to compete with the likes of CBE. Transferring to other banks sometimes doesn't work.",
         "2",
         "2024-05-03",
         "boe",
         "google_play"
        ],
        [
         "3",
         "This app is a joke. It crashes more than it works, takes forever to load, and half the features are just decorative at this point. Can’t log in, can’t transfer money, can’t even check my balance without it bugging out. To the developer: Are you actually trying to make this work, or is this some kind of social experiment to test our patience? Did you build this in your sleep? Because it definitely looks like it. If this is your idea of a functional app, maybe consider a different career path🙏",
         "1",
         "2025-05-21",
         "boe",
         "google_play"
        ],
        [
         "4",
         "Hello, I’m facing a problem with the BOA Mobile app. Every time I enter my phone number and password, the app crashes and shows an error that says “BoaMobile closed because this app has a bug.” I tried updating, reinstalling, and clearing cache, but nothing worked. Please fix this bug in the next update. I really need access to my account. Thank you.",
         "1",
         "2025-06-03",
         "boe",
         "google_play"
        ]
       ],
       "shape": {
        "columns": 5,
        "rows": 5
       }
      },
      "text/html": [
       "<div>\n",
       "<style scoped>\n",
       "    .dataframe tbody tr th:only-of-type {\n",
       "        vertical-align: middle;\n",
       "    }\n",
       "\n",
       "    .dataframe tbody tr th {\n",
       "        vertical-align: top;\n",
       "    }\n",
       "\n",
       "    .dataframe thead th {\n",
       "        text-align: right;\n",
       "    }\n",
       "</style>\n",
       "<table border=\"1\" class=\"dataframe\">\n",
       "  <thead>\n",
       "    <tr style=\"text-align: right;\">\n",
       "      <th></th>\n",
       "      <th>review</th>\n",
       "      <th>rating</th>\n",
       "      <th>date</th>\n",
       "      <th>bank</th>\n",
       "      <th>source</th>\n",
       "    </tr>\n",
       "  </thead>\n",
       "  <tbody>\n",
       "    <tr>\n",
       "      <th>0</th>\n",
       "      <td>I have a fitayah account, a type of interest f...</td>\n",
       "      <td>1</td>\n",
       "      <td>2024-02-18</td>\n",
       "      <td>boe</td>\n",
       "      <td>google_play</td>\n",
       "    </tr>\n",
       "    <tr>\n",
       "      <th>1</th>\n",
       "      <td>Can you please just make it functional. I don'...</td>\n",
       "      <td>1</td>\n",
       "      <td>2024-04-15</td>\n",
       "      <td>boe</td>\n",
       "      <td>google_play</td>\n",
       "    </tr>\n",
       "    <tr>\n",
       "      <th>2</th>\n",
       "      <td>Developers/ the company takes too long to upda...</td>\n",
       "      <td>2</td>\n",
       "      <td>2024-05-03</td>\n",
       "      <td>boe</td>\n",
       "      <td>google_play</td>\n",
       "    </tr>\n",
       "    <tr>\n",
       "      <th>3</th>\n",
       "      <td>This app is a joke. It crashes more than it wo...</td>\n",
       "      <td>1</td>\n",
       "      <td>2025-05-21</td>\n",
       "      <td>boe</td>\n",
       "      <td>google_play</td>\n",
       "    </tr>\n",
       "    <tr>\n",
       "      <th>4</th>\n",
       "      <td>Hello, I’m facing a problem with the BOA Mobil...</td>\n",
       "      <td>1</td>\n",
       "      <td>2025-06-03</td>\n",
       "      <td>boe</td>\n",
       "      <td>google_play</td>\n",
       "    </tr>\n",
       "  </tbody>\n",
       "</table>\n",
       "</div>"
      ],
      "text/plain": [
       "                                              review  rating        date bank  \\\n",
       "0  I have a fitayah account, a type of interest f...       1  2024-02-18  boe   \n",
       "1  Can you please just make it functional. I don'...       1  2024-04-15  boe   \n",
       "2  Developers/ the company takes too long to upda...       2  2024-05-03  boe   \n",
       "3  This app is a joke. It crashes more than it wo...       1  2025-05-21  boe   \n",
       "4  Hello, I’m facing a problem with the BOA Mobil...       1  2025-06-03  boe   \n",
       "\n",
       "        source  \n",
       "0  google_play  \n",
       "1  google_play  \n",
       "2  google_play  \n",
       "3  google_play  \n",
       "4  google_play  "
      ]
     },
     "execution_count": 11,
     "metadata": {},
     "output_type": "execute_result"
    }
   ],
   "source": [
    "boe_processed = pd.read_csv('../data/raw/boe_review.csv')\n",
    "boe_processed.head()"
   ]
  },
  {
   "cell_type": "code",
   "execution_count": 12,
   "id": "906724c4",
   "metadata": {},
   "outputs": [
    {
     "data": {
      "application/vnd.microsoft.datawrangler.viewer.v0+json": {
       "columns": [
        {
         "name": "index",
         "rawType": "int64",
         "type": "integer"
        },
        {
         "name": "review",
         "rawType": "object",
         "type": "string"
        },
        {
         "name": "rating",
         "rawType": "int64",
         "type": "integer"
        },
        {
         "name": "date",
         "rawType": "object",
         "type": "string"
        },
        {
         "name": "bank",
         "rawType": "object",
         "type": "string"
        },
        {
         "name": "source",
         "rawType": "object",
         "type": "string"
        }
       ],
       "ref": "c9c542af-08af-49ef-bee7-077d9bf5ee5d",
       "rows": [
        [
         "0",
         "The new mobile banking application is a major upgrade! Its incredibly user-friendly, with a clean and modern design that makes navigation simple and intuitive. I really appreciate how fast it loads and how smooth the overall experience is. All essential services like balance checks, transfers, and bill payments are eas y to find and use. The added security features give me peace of mind, and the app runs reliably without crashes or glitches. Its clear a lot of thought went into the user experi",
         "5",
         "2025-04-21",
         "dashen",
         "google_play"
        ],
        [
         "1",
         "Dashen Super App is a game-changer! Its fast, user-friendly, and packed with features that make everyday banking and transactions super convenient. I love how everything I need from mobile banking to utility payments is all in one place. The interface is clean, and everything works smoothly. Definitely one of the best apps out there. Highly recommended!",
         "5",
         "2025-04-21",
         "dashen",
         "google_play"
        ],
        [
         "2",
         "I have been using the Dashen Supper app mobile banking app , and overall, I appreciate its features.However,Ive noticed that when I turn on the developer options on my device, the app stops functioning properly. It would be great if you could look into this issue, as I often need to access developer settings for other applications . Thank you for your attention to this matter!",
         "5",
         "2025-04-21",
         "dashen",
         "google_play"
        ],
        [
         "3",
         "The Dashen Super App offers a quick and user-friendly experience, bringing together a variety of services, like budgeting, payments, airtime recharges, and more, all in one convenient platform. Its sleek design and intuitive navigation ensure effortless transactions. Its evident that Dashen Bank has carefully crafted the app to make everyday financial activities easier. A great choice for anyone aiming to streamline their digital routines!",
         "5",
         "2025-04-21",
         "dashen",
         "google_play"
        ],
        [
         "4",
         "Game changer app! Dashen Bank Super App is fast, secure, and easy to use. The three-click payment makes sending money super quick, and the QR code payment is perfect for cashless shopping. I also love the biometric login and easy airtime and bill payments. Everything I need is in one place. Dashen Bank has really raised the bar for digital banking in Ethiopia. Highly recommended!",
         "5",
         "2025-05-26",
         "dashen",
         "google_play"
        ]
       ],
       "shape": {
        "columns": 5,
        "rows": 5
       }
      },
      "text/html": [
       "<div>\n",
       "<style scoped>\n",
       "    .dataframe tbody tr th:only-of-type {\n",
       "        vertical-align: middle;\n",
       "    }\n",
       "\n",
       "    .dataframe tbody tr th {\n",
       "        vertical-align: top;\n",
       "    }\n",
       "\n",
       "    .dataframe thead th {\n",
       "        text-align: right;\n",
       "    }\n",
       "</style>\n",
       "<table border=\"1\" class=\"dataframe\">\n",
       "  <thead>\n",
       "    <tr style=\"text-align: right;\">\n",
       "      <th></th>\n",
       "      <th>review</th>\n",
       "      <th>rating</th>\n",
       "      <th>date</th>\n",
       "      <th>bank</th>\n",
       "      <th>source</th>\n",
       "    </tr>\n",
       "  </thead>\n",
       "  <tbody>\n",
       "    <tr>\n",
       "      <th>0</th>\n",
       "      <td>The new mobile banking application is a major ...</td>\n",
       "      <td>5</td>\n",
       "      <td>2025-04-21</td>\n",
       "      <td>dashen</td>\n",
       "      <td>google_play</td>\n",
       "    </tr>\n",
       "    <tr>\n",
       "      <th>1</th>\n",
       "      <td>Dashen Super App is a game-changer! Its fast, ...</td>\n",
       "      <td>5</td>\n",
       "      <td>2025-04-21</td>\n",
       "      <td>dashen</td>\n",
       "      <td>google_play</td>\n",
       "    </tr>\n",
       "    <tr>\n",
       "      <th>2</th>\n",
       "      <td>I have been using the Dashen Supper app mobile...</td>\n",
       "      <td>5</td>\n",
       "      <td>2025-04-21</td>\n",
       "      <td>dashen</td>\n",
       "      <td>google_play</td>\n",
       "    </tr>\n",
       "    <tr>\n",
       "      <th>3</th>\n",
       "      <td>The Dashen Super App offers a quick and user-f...</td>\n",
       "      <td>5</td>\n",
       "      <td>2025-04-21</td>\n",
       "      <td>dashen</td>\n",
       "      <td>google_play</td>\n",
       "    </tr>\n",
       "    <tr>\n",
       "      <th>4</th>\n",
       "      <td>Game changer app! Dashen Bank Super App is fas...</td>\n",
       "      <td>5</td>\n",
       "      <td>2025-05-26</td>\n",
       "      <td>dashen</td>\n",
       "      <td>google_play</td>\n",
       "    </tr>\n",
       "  </tbody>\n",
       "</table>\n",
       "</div>"
      ],
      "text/plain": [
       "                                              review  rating        date  \\\n",
       "0  The new mobile banking application is a major ...       5  2025-04-21   \n",
       "1  Dashen Super App is a game-changer! Its fast, ...       5  2025-04-21   \n",
       "2  I have been using the Dashen Supper app mobile...       5  2025-04-21   \n",
       "3  The Dashen Super App offers a quick and user-f...       5  2025-04-21   \n",
       "4  Game changer app! Dashen Bank Super App is fas...       5  2025-05-26   \n",
       "\n",
       "     bank       source  \n",
       "0  dashen  google_play  \n",
       "1  dashen  google_play  \n",
       "2  dashen  google_play  \n",
       "3  dashen  google_play  \n",
       "4  dashen  google_play  "
      ]
     },
     "execution_count": 12,
     "metadata": {},
     "output_type": "execute_result"
    }
   ],
   "source": [
    "dashen_processed = pd.read_csv('../data/processed/dashen_review.csv')\n",
    "dashen_processed.head()"
   ]
  },
  {
   "cell_type": "code",
   "execution_count": null,
   "id": "78d0becb",
   "metadata": {},
   "outputs": [],
   "source": []
  }
 ],
 "metadata": {
  "kernelspec": {
   "display_name": "Python 3",
   "language": "python",
   "name": "python3"
  },
  "language_info": {
   "codemirror_mode": {
    "name": "ipython",
    "version": 3
   },
   "file_extension": ".py",
   "mimetype": "text/x-python",
   "name": "python",
   "nbconvert_exporter": "python",
   "pygments_lexer": "ipython3",
   "version": "3.13.2"
  }
 },
 "nbformat": 4,
 "nbformat_minor": 5
}
