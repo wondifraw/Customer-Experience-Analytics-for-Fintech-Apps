{
 "cells": [
  {
   "cell_type": "code",
   "execution_count": 2,
   "metadata": {},
   "outputs": [],
   "source": [
    "import sys\n",
    "import os\n",
    "import logging\n",
    " \n",
    "# Add the project root directory to Python path\n",
    "sys.path.append(os.path.abspath(os.path.join(os.path.dirname('__file__'), '..')))\n",
    "from src.playstore_scraper import PlayStoreScraper\n",
    "from src.review_preprocessor import ReviewPreprocessor\n",
    "import pandas as pd\n",
    "import logging\n",
    "%reload_ext autoreload\n",
    "%autoreload 2 \n"
   ]
  },
  {
   "cell_type": "code",
   "execution_count": 4,
   "metadata": {},
   "outputs": [
    {
     "name": "stderr",
     "output_type": "stream",
     "text": [
      "2025-06-09 06:54:00,722 - INFO - Scraping reviews for cbe\n",
      "2025-06-09 06:54:04,311 - INFO - Successfully fetched 600 reviews for com.combanketh.mobilebanking\n",
      "2025-06-09 06:54:04,325 - INFO - Saved 600 reviews for cbe to ../data/raw/cbe_review.csv\n",
      "2025-06-09 06:54:04,326 - INFO - Scraping reviews for boe\n",
      "2025-06-09 06:54:07,277 - INFO - Successfully fetched 600 reviews for com.boa.boaMobileBanking\n",
      "2025-06-09 06:54:07,295 - INFO - Saved 600 reviews for boe to ../data/raw/boe_review.csv\n",
      "2025-06-09 06:54:07,297 - INFO - Scraping reviews for dashen\n",
      "2025-06-09 06:54:10,086 - INFO - Successfully fetched 450 reviews for com.dashen.dashensuperapp\n",
      "2025-06-09 06:54:10,111 - INFO - Saved 450 reviews for dashen to ../data/raw/dashen_review.csv\n"
     ]
    }
   ],
   "source": [
    "scraper = PlayStoreScraper()\n",
    "reviews_by_bank = scraper.scrape_all()\n"
   ]
  },
  {
   "cell_type": "code",
   "execution_count": 5,
   "metadata": {},
   "outputs": [],
   "source": [
    " # Initialize and run preprocessor\n",
    "preprocessor = ReviewPreprocessor()\n"
   ]
  },
  {
   "cell_type": "code",
   "execution_count": 6,
   "metadata": {},
   "outputs": [
    {
     "name": "stderr",
     "output_type": "stream",
     "text": [
      "2025-06-09 06:54:29,352 - INFO - Saved 596 processed reviews for boe\n",
      "2025-06-09 06:54:29,424 - INFO - Saved 600 processed reviews for cbe\n",
      "2025-06-09 06:54:29,443 - INFO - Saved 406 processed reviews for dashen\n"
     ]
    }
   ],
   "source": [
    "preprocessor.process_all_banks()"
   ]
  },
  {
   "cell_type": "code",
   "execution_count": 7,
   "metadata": {},
   "outputs": [],
   "source": [
    "import pandas as pd\n",
    "import numpy as np\n",
    "import matplotlib.pyplot as plt\n",
    "import seaborn as sns\n",
    "from src.sentiment_analyzer import SentimentAnalyzer\n",
    "from src.theme_analyzer import ThemeAnalyzer\n"
   ]
  },
  {
   "cell_type": "code",
   "execution_count": 8,
   "metadata": {},
   "outputs": [
    {
     "name": "stderr",
     "output_type": "stream",
     "text": [
      "2025-06-09 06:56:34,634 - INFO - Saved 596 processed reviews for boe\n",
      "2025-06-09 06:56:34,664 - INFO - Saved 600 processed reviews for cbe\n",
      "2025-06-09 06:56:34,693 - INFO - Saved 406 processed reviews for dashen\n"
     ]
    }
   ],
   "source": [
    "from src.review_preprocessor import ReviewPreprocessor\n",
    "\n",
    "preprocessor = ReviewPreprocessor()\n",
    "preprocessor.process_all_banks()"
   ]
  },
  {
   "cell_type": "code",
   "execution_count": 10,
   "metadata": {},
   "outputs": [
    {
     "data": {
      "text/html": [
       "<div>\n",
       "<style scoped>\n",
       "    .dataframe tbody tr th:only-of-type {\n",
       "        vertical-align: middle;\n",
       "    }\n",
       "\n",
       "    .dataframe tbody tr th {\n",
       "        vertical-align: top;\n",
       "    }\n",
       "\n",
       "    .dataframe thead th {\n",
       "        text-align: right;\n",
       "    }\n",
       "</style>\n",
       "<table border=\"1\" class=\"dataframe\">\n",
       "  <thead>\n",
       "    <tr style=\"text-align: right;\">\n",
       "      <th></th>\n",
       "      <th>review_text</th>\n",
       "      <th>rating</th>\n",
       "      <th>date</th>\n",
       "      <th>bank_name</th>\n",
       "      <th>source</th>\n",
       "      <th>sentiment_label</th>\n",
       "      <th>sentiment_score</th>\n",
       "      <th>keywords</th>\n",
       "    </tr>\n",
       "  </thead>\n",
       "  <tbody>\n",
       "    <tr>\n",
       "      <th>0</th>\n",
       "      <td>I have a fitayah account, a type of interest f...</td>\n",
       "      <td>1</td>\n",
       "      <td>2024-02-18</td>\n",
       "      <td>boe</td>\n",
       "      <td>google_play</td>\n",
       "      <td>NEGATIVE</td>\n",
       "      <td>0.999777</td>\n",
       "      <td>fitayah account type interest account system p...</td>\n",
       "    </tr>\n",
       "    <tr>\n",
       "      <th>1</th>\n",
       "      <td>Can you please just make it functional. I dont...</td>\n",
       "      <td>1</td>\n",
       "      <td>2024-04-15</td>\n",
       "      <td>boe</td>\n",
       "      <td>google_play</td>\n",
       "      <td>NEGATIVE</td>\n",
       "      <td>0.928859</td>\n",
       "      <td>functionality works aestheticaly nice loading ...</td>\n",
       "    </tr>\n",
       "    <tr>\n",
       "      <th>2</th>\n",
       "      <td>Developers the company takes too long to updat...</td>\n",
       "      <td>2</td>\n",
       "      <td>2024-05-03</td>\n",
       "      <td>boe</td>\n",
       "      <td>google_play</td>\n",
       "      <td>NEGATIVE</td>\n",
       "      <td>0.999800</td>\n",
       "      <td>developers company app process app money accou...</td>\n",
       "    </tr>\n",
       "    <tr>\n",
       "      <th>3</th>\n",
       "      <td>This app is a joke. It crashes more than it wo...</td>\n",
       "      <td>1</td>\n",
       "      <td>2025-05-21</td>\n",
       "      <td>boe</td>\n",
       "      <td>google_play</td>\n",
       "      <td>NEGATIVE</td>\n",
       "      <td>0.999194</td>\n",
       "      <td>app joke features point money balance develope...</td>\n",
       "    </tr>\n",
       "    <tr>\n",
       "      <th>4</th>\n",
       "      <td>Hello, Im facing a problem with the BOA Mobile...</td>\n",
       "      <td>1</td>\n",
       "      <td>2025-06-03</td>\n",
       "      <td>boe</td>\n",
       "      <td>google_play</td>\n",
       "      <td>NEGATIVE</td>\n",
       "      <td>0.999369</td>\n",
       "      <td>problem boa mobile app time phone number passw...</td>\n",
       "    </tr>\n",
       "  </tbody>\n",
       "</table>\n",
       "</div>"
      ],
      "text/plain": [
       "                                         review_text  rating        date  \\\n",
       "0  I have a fitayah account, a type of interest f...       1  2024-02-18   \n",
       "1  Can you please just make it functional. I dont...       1  2024-04-15   \n",
       "2  Developers the company takes too long to updat...       2  2024-05-03   \n",
       "3  This app is a joke. It crashes more than it wo...       1  2025-05-21   \n",
       "4  Hello, Im facing a problem with the BOA Mobile...       1  2025-06-03   \n",
       "\n",
       "  bank_name       source sentiment_label  sentiment_score  \\\n",
       "0       boe  google_play        NEGATIVE         0.999777   \n",
       "1       boe  google_play        NEGATIVE         0.928859   \n",
       "2       boe  google_play        NEGATIVE         0.999800   \n",
       "3       boe  google_play        NEGATIVE         0.999194   \n",
       "4       boe  google_play        NEGATIVE         0.999369   \n",
       "\n",
       "                                            keywords  \n",
       "0  fitayah account type interest account system p...  \n",
       "1  functionality works aestheticaly nice loading ...  \n",
       "2  developers company app process app money accou...  \n",
       "3  app joke features point money balance develope...  \n",
       "4  problem boa mobile app time phone number passw...  "
      ]
     },
     "execution_count": 10,
     "metadata": {},
     "output_type": "execute_result"
    }
   ],
   "source": [
    "analyzed_data = pd.read_csv('../data/analyzed_reviews.csv')\n",
    "\n",
    "analyzed_data.head()"
   ]
  },
  {
   "cell_type": "code",
   "execution_count": null,
   "metadata": {},
   "outputs": [],
   "source": []
  },
  {
   "cell_type": "code",
   "execution_count": 15,
   "metadata": {},
   "outputs": [
    {
     "name": "stderr",
     "output_type": "stream",
     "text": [
      "Device set to use cpu\n",
      "2025-06-09 07:13:39,574 - INFO - Sentiment analyzer initialized successfully\n"
     ]
    },
    {
     "name": "stdout",
     "output_type": "stream",
     "text": [
      "\n",
      "Sentiment Analysis Summary:\n",
      "---------------------------\n",
      "Total reviews analyzed: 1602\n",
      "\n",
      "Sentiment distribution:\n",
      "sentiment_label\n",
      "NEGATIVE    1001\n",
      "POSITIVE     601\n",
      "Name: count, dtype: int64\n"
     ]
    },
    {
     "data": {
      "text/plain": [
       "Text(0, 0.5, 'Number of Reviews')"
      ]
     },
     "execution_count": 15,
     "metadata": {},
     "output_type": "execute_result"
    },
    {
     "data": {
      "image/png": "[encoded data removed]",
      "text/plain": [
       "<Figure size 1500x600 with 2 Axes>"
      ]
     },
     "metadata": {},
     "output_type": "display_data"
    }
   ],
   "source": [
    "# Initialize sentiment analyzer\n",
    "sentiment_analyzer = SentimentAnalyzer()\n",
    "\n",
    "# Load processed reviews\n",
    "preprocessor = ReviewPreprocessor()\n",
    "df = preprocessor.load_data()\n",
    "\n",
    "# Analyze sentiment for all reviews\n",
    "df_with_sentiment, agg_sentiment = sentiment_analyzer.analyze_reviews(df)\n",
    "\n",
    "# Display summary of sentiment analysis\n",
    "print(\"\\nSentiment Analysis Summary:\")\n",
    "print(\"---------------------------\")\n",
    "print(f\"Total reviews analyzed: {len(df_with_sentiment)}\")\n",
    "print(\"\\nSentiment distribution:\")\n",
    "print(df_with_sentiment['sentiment_label'].value_counts())\n",
    "# Create a figure with two subplots\n",
    "fig, (ax1, ax2) = plt.subplots(1, 2, figsize=(15, 6))\n",
    "\n",
    "# Plot 1: Sentiment Distribution\n",
    "sentiment_counts = df_with_sentiment['sentiment_label'].value_counts()\n",
    "sns.barplot(x=sentiment_counts.index, y=sentiment_counts.values, ax=ax1)\n",
    "ax1.set_title('Distribution of Sentiment Labels')\n",
    "ax1.set_xlabel('Sentiment')\n",
    "ax1.set_ylabel('Number of Reviews')\n",
    "\n",
    "\n",
    "\n",
    "\n",
    "\n"
   ]
  },
  {
   "cell_type": "code",
   "execution_count": null,
   "metadata": {},
   "outputs": [
    {
     "name": "stdout",
     "output_type": "stream",
     "text": [
      "\n",
      "Average sentiment scores by bank:\n",
      "bank_name\n",
      "boe       0.975121\n",
      "cbe       0.973501\n",
      "dashen    0.981897\n",
      "Name: sentiment_score, dtype: float64\n"
     ]
    },
    {
     "data": {
      "text/plain": [
       "<Figure size 640x480 with 0 Axes>"
      ]
     },
     "metadata": {},
     "output_type": "display_data"
    }
   ],
   "source": [
    "# Display average sentiment scores by bank\n",
    "print(\"\\nAverage sentiment scores by bank:\")\n",
    "print(agg_sentiment.groupby('bank_name').mean())\n"
   ]
  },
  {
   "cell_type": "code",
   "execution_count": 12,
   "metadata": {},
   "outputs": [
    {
     "name": "stderr",
     "output_type": "stream",
     "text": [
      "2025-06-09 07:04:48,753 - INFO - Theme analyzer initialized successfully\n"
     ]
    },
    {
     "name": "stdout",
     "output_type": "stream",
     "text": [
      "\n",
      "Theme Analysis Summary:\n",
      "----------------------\n",
      "\n",
      "boe:\n",
      "  Transaction: money, transaction\n",
      "  UI/UX: app, application, banking app, apps\n",
      "  Support: service\n",
      "  Performance: error\n",
      "\n",
      "cbe:\n",
      "  Account Access: account\n",
      "  Transaction: transaction, transactions, money, transfer\n",
      "  UI/UX: app, application\n",
      "  Performance: error\n",
      "\n",
      "dashen:\n",
      "  Account Access: account\n",
      "  Transaction: transactions, transaction\n",
      "  UI/UX: app, application, super app, banking app\n",
      "  Support: services\n"
     ]
    },
    {
     "data": {
      "image/png": "[encoded data removed]",
      "text/plain": [
       "<Figure size 1200x600 with 1 Axes>"
      ]
     },
     "metadata": {},
     "output_type": "display_data"
    }
   ],
   "source": [
    "# Initialize theme analyzer\n",
    "theme_analyzer = ThemeAnalyzer()\n",
    "\n",
    "# Analyze themes for all reviews\n",
    "themes_by_bank = theme_analyzer.identify_themes(df_with_sentiment)\n",
    "\n",
    "# Display theme analysis summary\n",
    "print(\"\\nTheme Analysis Summary:\")\n",
    "print(\"----------------------\")\n",
    "for bank, themes in themes_by_bank.items():\n",
    "    print(f\"\\n{bank}:\")\n",
    "    for theme, keywords in themes.items():\n",
    "        print(f\"  {theme}: {', '.join(keywords[:5])}\")\n",
    "\n",
    "# Visualize top themes by bank\n",
    "plt.figure(figsize=(12, 6))\n",
    "for bank, themes in themes_by_bank.items():\n",
    "    # Get top 3 themes for each bank\n",
    "    top_themes = list(themes.keys())[:3]\n",
    "    theme_counts = [len(keywords) for keywords in themes.values()][:3]\n",
    "    \n",
    "    plt.bar(top_themes, theme_counts, label=bank, alpha=0.7)\n",
    "\n",
    "plt.title('Top Themes by Bank')\n",
    "plt.xlabel('Themes')\n",
    "plt.ylabel('Number of Keywords')\n",
    "plt.xticks(rotation=45, ha='right')\n",
    "plt.legend()\n",
    "plt.tight_layout()\n",
    "plt.show()\n"
   ]
  },
  {
   "cell_type": "code",
   "execution_count": null,
   "metadata": {},
   "outputs": [],
   "source": []
  }
 ],
 "metadata": {
  "kernelspec": {
   "display_name": "Python 3",
   "language": "python",
   "name": "python3"
  },
  "language_info": {
   "codemirror_mode": {
    "name": "ipython",
    "version": 3
   },
   "file_extension": ".py",
   "mimetype": "text/x-python",
   "name": "python",
   "nbconvert_exporter": "python",
   "pygments_lexer": "ipython3",
   "version": "3.13.2"
  }
 },
 "nbformat": 4,
 "nbformat_minor": 2
}
