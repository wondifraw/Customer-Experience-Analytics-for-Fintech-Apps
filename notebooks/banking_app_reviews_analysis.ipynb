{
 "cells": [
  {
   "cell_type": "code",
   "execution_count": 9,
   "metadata": {},
   "outputs": [],
   "source": [
    "import sys\n",
    "import os\n",
    "import logging\n",
    " \n",
    "# Add the project root directory to Python path\n",
    "sys.path.append(os.path.abspath(os.path.join(os.path.dirname('__file__'), '..')))\n",
    "from src.playstore_scraper import PlayStoreScraper\n",
    "from src.review_preprocessor import ReviewPreprocessor\n",
    "import pandas as pd\n",
    "import logging\n",
    "%reload_ext autoreload\n",
    "%autoreload 2 \n"
   ]
  },
  {
   "cell_type": "code",
   "execution_count": 10,
   "metadata": {},
   "outputs": [
    {
     "name": "stderr",
     "output_type": "stream",
     "text": [
      "2025-06-09 01:34:57,102 - INFO - Scraping reviews for cbe\n",
      "2025-06-09 01:34:58,645 - INFO - Successfully fetched 600 reviews for com.combanketh.mobilebanking\n",
      "2025-06-09 01:34:58,662 - ERROR - Error processing cbe: Cannot save file into a non-existent directory: '..\\data\\raw'\n",
      "2025-06-09 01:34:58,666 - INFO - Scraping reviews for boe\n",
      "2025-06-09 01:34:59,852 - INFO - Successfully fetched 600 reviews for com.boa.boaMobileBanking\n",
      "2025-06-09 01:34:59,861 - ERROR - Error processing boe: Cannot save file into a non-existent directory: '..\\data\\raw'\n",
      "2025-06-09 01:34:59,862 - INFO - Scraping reviews for dashen\n",
      "2025-06-09 01:35:01,029 - INFO - Successfully fetched 450 reviews for com.dashen.dashensuperapp\n",
      "2025-06-09 01:35:01,036 - ERROR - Error processing dashen: Cannot save file into a non-existent directory: '..\\data\\raw'\n"
     ]
    }
   ],
   "source": [
    "scraper = PlayStoreScraper()\n",
    "reviews_by_bank = scraper.scrape_all()\n",
    "\n",
    "        \n",
    " "
   ]
  },
  {
   "cell_type": "code",
   "execution_count": 8,
   "metadata": {},
   "outputs": [
    {
     "data": {
      "text/plain": [
       "{}"
      ]
     },
     "execution_count": 8,
     "metadata": {},
     "output_type": "execute_result"
    }
   ],
   "source": [
    "reviews_by_bank"
   ]
  },
  {
   "cell_type": "code",
   "execution_count": 3,
   "metadata": {},
   "outputs": [],
   "source": [
    " # Initialize and run preprocessor\n",
    "preprocessor = ReviewPreprocessor()\n"
   ]
  },
  {
   "cell_type": "code",
   "execution_count": 4,
   "metadata": {},
   "outputs": [],
   "source": [
    "preprocessor.process_all_banks()"
   ]
  },
  {
   "cell_type": "code",
   "execution_count": null,
   "metadata": {},
   "outputs": [],
   "source": []
  }
 ],
 "metadata": {
  "kernelspec": {
   "display_name": "Python 3",
   "language": "python",
   "name": "python3"
  },
  "language_info": {
   "codemirror_mode": {
    "name": "ipython",
    "version": 3
   },
   "file_extension": ".py",
   "mimetype": "text/x-python",
   "name": "python",
   "nbconvert_exporter": "python",
   "pygments_lexer": "ipython3",
   "version": "3.13.2"
  }
 },
 "nbformat": 4,
 "nbformat_minor": 2
}
