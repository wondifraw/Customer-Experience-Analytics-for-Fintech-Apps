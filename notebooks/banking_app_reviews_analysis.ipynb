{
 "cells": [
  {
   "cell_type": "code",
   "execution_count": 20,
   "metadata": {},
   "outputs": [],
   "source": [
    "import sys\n",
    "import os\n",
    "import logging\n",
    " \n",
    "# Add the project root directory to Python path\n",
    "sys.path.append(os.path.abspath(os.path.join(os.path.dirname('__file__'), '..')))\n",
    "from src.playstore_scraper import PlayStoreScraper\n",
    "from src.review_preprocessor import ReviewPreprocessor\n",
    "import pandas as pd\n",
    "import logging\n",
    "%reload_ext autoreload\n",
    "%autoreload 2 \n"
   ]
  },
  {
   "cell_type": "code",
   "execution_count": 21,
   "metadata": {},
   "outputs": [
    {
     "name": "stderr",
     "output_type": "stream",
     "text": [
      "2025-06-08 23:26:32,333 - INFO - Scraping reviews for cbe\n",
      "2025-06-08 23:26:33,902 - INFO - Successfully fetched 600 reviews for com.combanketh.mobilebanking\n",
      "2025-06-08 23:26:33,909 - INFO - Saved 600 reviews for cbe to ../data/raw/cbe_review.csv\n",
      "2025-06-08 23:26:33,910 - INFO - Scraping reviews for boe\n",
      "2025-06-08 23:26:35,195 - INFO - Successfully fetched 600 reviews for com.boa.boaMobileBanking\n",
      "2025-06-08 23:26:35,208 - INFO - Saved 600 reviews for boe to ../data/raw/boe_review.csv\n",
      "2025-06-08 23:26:35,213 - INFO - Scraping reviews for dashen\n",
      "2025-06-08 23:26:37,356 - INFO - Successfully fetched 449 reviews for com.dashen.dashensuperapp\n",
      "2025-06-08 23:26:37,370 - INFO - Saved 449 reviews for dashen to ../data/raw/dashen_review.csv\n"
     ]
    }
   ],
   "source": [
    "scraper = PlayStoreScraper()\n",
    "reviews_by_bank = scraper.scrape_all()\n",
    "\n",
    "        \n",
    " "
   ]
  },
  {
   "cell_type": "code",
   "execution_count": 22,
   "metadata": {},
   "outputs": [],
   "source": [
    " # Initialize and run preprocessor\n",
    "preprocessor = ReviewPreprocessor()\n"
   ]
  },
  {
   "cell_type": "code",
   "execution_count": 23,
   "metadata": {},
   "outputs": [
    {
     "name": "stderr",
     "output_type": "stream",
     "text": [
      "2025-06-08 23:26:52,522 - INFO - Saved 499 processed reviews for boe\n",
      "2025-06-08 23:26:52,535 - INFO - Saved 448 processed reviews for cbe\n",
      "2025-06-08 23:26:52,603 - INFO - Saved 405 processed reviews for dashen\n"
     ]
    }
   ],
   "source": [
    "preprocessor.process_all_banks()"
   ]
  },
  {
   "cell_type": "code",
   "execution_count": null,
   "metadata": {},
   "outputs": [],
   "source": []
  }
 ],
 "metadata": {
  "kernelspec": {
   "display_name": "Python 3",
   "language": "python",
   "name": "python3"
  },
  "language_info": {
   "codemirror_mode": {
    "name": "ipython",
    "version": 3
   },
   "file_extension": ".py",
   "mimetype": "text/x-python",
   "name": "python",
   "nbconvert_exporter": "python",
   "pygments_lexer": "ipython3",
   "version": "3.13.2"
  }
 },
 "nbformat": 4,
 "nbformat_minor": 2
}
